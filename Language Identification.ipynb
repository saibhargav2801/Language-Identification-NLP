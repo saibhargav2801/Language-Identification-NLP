{
 "cells": [
  {
   "cell_type": "code",
   "execution_count": 1,
   "id": "0d0a13eb",
   "metadata": {},
   "outputs": [],
   "source": [
    "import pandas as pd\n",
    "import numpy as np"
   ]
  },
  {
   "cell_type": "code",
   "execution_count": 2,
   "id": "5350678c",
   "metadata": {},
   "outputs": [],
   "source": [
    "from sklearn.feature_extraction.text import CountVectorizer,TfidfTransformer,TfidfVectorizer"
   ]
  },
  {
   "cell_type": "markdown",
   "id": "7a86e65f",
   "metadata": {},
   "source": [
    "#### Understanding Ngrams and analyser in TFVectorizer"
   ]
  },
  {
   "cell_type": "code",
   "execution_count": 17,
   "id": "e815674c",
   "metadata": {},
   "outputs": [],
   "source": [
    "cv = CountVectorizer()\n",
    "tft = TfidfTransformer()\n",
    "tfv = TfidfVectorizer(ngram_range=(1,3),analyzer='char')#takes ngrams of chars as 1,2,3 and creates the vector names"
   ]
  },
  {
   "cell_type": "code",
   "execution_count": 4,
   "id": "9f6100d1",
   "metadata": {},
   "outputs": [],
   "source": [
    "sent = ['he is a good boy','she is a good girl','she and he both are good']"
   ]
  },
  {
   "cell_type": "code",
   "execution_count": 8,
   "id": "1e4e98d4",
   "metadata": {},
   "outputs": [],
   "source": [
    "cv_fit = cv.fit_transform(sent)"
   ]
  },
  {
   "cell_type": "code",
   "execution_count": 11,
   "id": "d7608f14",
   "metadata": {},
   "outputs": [
    {
     "data": {
      "text/plain": [
       "['and', 'are', 'both', 'boy', 'girl', 'good', 'he', 'is', 'she']"
      ]
     },
     "execution_count": 11,
     "metadata": {},
     "output_type": "execute_result"
    }
   ],
   "source": [
    "cv.get_feature_names()"
   ]
  },
  {
   "cell_type": "code",
   "execution_count": 9,
   "id": "2711e231",
   "metadata": {},
   "outputs": [
    {
     "data": {
      "text/plain": [
       "array([[0, 0, 0, 1, 0, 1, 1, 1, 0],\n",
       "       [0, 0, 0, 0, 1, 1, 0, 1, 1],\n",
       "       [1, 1, 1, 0, 0, 1, 1, 0, 1]], dtype=int64)"
      ]
     },
     "execution_count": 9,
     "metadata": {},
     "output_type": "execute_result"
    }
   ],
   "source": [
    "cv_fit.toarray()"
   ]
  },
  {
   "cell_type": "code",
   "execution_count": 12,
   "id": "97aa80be",
   "metadata": {},
   "outputs": [],
   "source": [
    "tf_fit = tft.fit_transform(cv_fit)"
   ]
  },
  {
   "cell_type": "code",
   "execution_count": 13,
   "id": "3dc13a6b",
   "metadata": {},
   "outputs": [
    {
     "data": {
      "text/plain": [
       "array([[0.        , 0.        , 0.        , 0.63174505, 0.        ,\n",
       "        0.37311881, 0.4804584 , 0.4804584 , 0.        ],\n",
       "       [0.        , 0.        , 0.        , 0.        , 0.63174505,\n",
       "        0.37311881, 0.        , 0.4804584 , 0.4804584 ],\n",
       "       [0.4711101 , 0.4711101 , 0.4711101 , 0.        , 0.        ,\n",
       "        0.27824521, 0.35829137, 0.        , 0.35829137]])"
      ]
     },
     "execution_count": 13,
     "metadata": {},
     "output_type": "execute_result"
    }
   ],
   "source": [
    "tf_fit.toarray()"
   ]
  },
  {
   "cell_type": "code",
   "execution_count": 18,
   "id": "b55f8908",
   "metadata": {},
   "outputs": [],
   "source": [
    "tfc_fit = tfv.fit_transform(sent)"
   ]
  },
  {
   "cell_type": "code",
   "execution_count": 19,
   "id": "236caf0b",
   "metadata": {},
   "outputs": [
    {
     "data": {
      "text/plain": [
       "[' ',\n",
       " ' a',\n",
       " ' a ',\n",
       " ' an',\n",
       " ' ar',\n",
       " ' b',\n",
       " ' bo',\n",
       " ' g',\n",
       " ' gi',\n",
       " ' go',\n",
       " ' h',\n",
       " ' he',\n",
       " ' i',\n",
       " ' is',\n",
       " 'a',\n",
       " 'a ',\n",
       " 'a g',\n",
       " 'an',\n",
       " 'and',\n",
       " 'ar',\n",
       " 'are',\n",
       " 'b',\n",
       " 'bo',\n",
       " 'bot',\n",
       " 'boy',\n",
       " 'd',\n",
       " 'd ',\n",
       " 'd b',\n",
       " 'd g',\n",
       " 'd h',\n",
       " 'e',\n",
       " 'e ',\n",
       " 'e a',\n",
       " 'e b',\n",
       " 'e g',\n",
       " 'e i',\n",
       " 'g',\n",
       " 'gi',\n",
       " 'gir',\n",
       " 'go',\n",
       " 'goo',\n",
       " 'h',\n",
       " 'h ',\n",
       " 'h a',\n",
       " 'he',\n",
       " 'he ',\n",
       " 'i',\n",
       " 'ir',\n",
       " 'irl',\n",
       " 'is',\n",
       " 'is ',\n",
       " 'l',\n",
       " 'n',\n",
       " 'nd',\n",
       " 'nd ',\n",
       " 'o',\n",
       " 'od',\n",
       " 'od ',\n",
       " 'oo',\n",
       " 'ood',\n",
       " 'ot',\n",
       " 'oth',\n",
       " 'oy',\n",
       " 'r',\n",
       " 're',\n",
       " 're ',\n",
       " 'rl',\n",
       " 's',\n",
       " 's ',\n",
       " 's a',\n",
       " 'sh',\n",
       " 'she',\n",
       " 't',\n",
       " 'th',\n",
       " 'th ',\n",
       " 'y']"
      ]
     },
     "execution_count": 19,
     "metadata": {},
     "output_type": "execute_result"
    }
   ],
   "source": [
    "tfv.get_feature_names()"
   ]
  },
  {
   "cell_type": "markdown",
   "id": "f31cc36b",
   "metadata": {},
   "source": [
    "### Language Identification"
   ]
  },
  {
   "cell_type": "code",
   "execution_count": 24,
   "id": "824726c1",
   "metadata": {},
   "outputs": [],
   "source": [
    "data = pd.read_csv('Language Detection.csv')"
   ]
  },
  {
   "cell_type": "code",
   "execution_count": 25,
   "id": "df3a65de",
   "metadata": {},
   "outputs": [
    {
     "data": {
      "text/plain": [
       "10337"
      ]
     },
     "execution_count": 25,
     "metadata": {},
     "output_type": "execute_result"
    }
   ],
   "source": [
    "len(data)"
   ]
  },
  {
   "cell_type": "markdown",
   "id": "5cdbdf9a",
   "metadata": {},
   "source": [
    "##### Lets take only English,French,Hindi,Spanish"
   ]
  },
  {
   "cell_type": "code",
   "execution_count": 27,
   "id": "bba647ee",
   "metadata": {},
   "outputs": [],
   "source": [
    "data_English = data[data['Language']=='English']"
   ]
  },
  {
   "cell_type": "code",
   "execution_count": 29,
   "id": "9ccffb50",
   "metadata": {},
   "outputs": [],
   "source": [
    "data_French = data[data['Language']=='French']\n",
    "data_Hindi = data[data['Language']=='Hindi']\n",
    "data_Spansih = data[data['Language']=='Spanish']"
   ]
  },
  {
   "cell_type": "code",
   "execution_count": 32,
   "id": "6a9a073e",
   "metadata": {},
   "outputs": [
    {
     "data": {
      "text/html": [
       "<div>\n",
       "<style scoped>\n",
       "    .dataframe tbody tr th:only-of-type {\n",
       "        vertical-align: middle;\n",
       "    }\n",
       "\n",
       "    .dataframe tbody tr th {\n",
       "        vertical-align: top;\n",
       "    }\n",
       "\n",
       "    .dataframe thead th {\n",
       "        text-align: right;\n",
       "    }\n",
       "</style>\n",
       "<table border=\"1\" class=\"dataframe\">\n",
       "  <thead>\n",
       "    <tr style=\"text-align: right;\">\n",
       "      <th></th>\n",
       "      <th>Text</th>\n",
       "      <th>Language</th>\n",
       "    </tr>\n",
       "  </thead>\n",
       "  <tbody>\n",
       "    <tr>\n",
       "      <th>3250</th>\n",
       "      <td>Si vous disposez d'ouvrages ou d'articles de r...</td>\n",
       "      <td>French</td>\n",
       "    </tr>\n",
       "    <tr>\n",
       "      <th>3251</th>\n",
       "      <td>Comment ajouter mes sources ?</td>\n",
       "      <td>French</td>\n",
       "    </tr>\n",
       "    <tr>\n",
       "      <th>3252</th>\n",
       "      <td>Cette page ou section est en train d'être trad...</td>\n",
       "      <td>French</td>\n",
       "    </tr>\n",
       "    <tr>\n",
       "      <th>3253</th>\n",
       "      <td>Vous pouvez aider au développement de Wikipédi...</td>\n",
       "      <td>French</td>\n",
       "    </tr>\n",
       "    <tr>\n",
       "      <th>3254</th>\n",
       "      <td>Le mot nature est un terme polysémique (c’est-...</td>\n",
       "      <td>French</td>\n",
       "    </tr>\n",
       "    <tr>\n",
       "      <th>...</th>\n",
       "      <td>...</td>\n",
       "      <td>...</td>\n",
       "    </tr>\n",
       "    <tr>\n",
       "      <th>4259</th>\n",
       "      <td>quelle a été votre erreur, nous allons vous no...</td>\n",
       "      <td>French</td>\n",
       "    </tr>\n",
       "    <tr>\n",
       "      <th>4260</th>\n",
       "      <td>narcisa a changé ses manières, elle a lutté au...</td>\n",
       "      <td>French</td>\n",
       "    </tr>\n",
       "    <tr>\n",
       "      <th>4261</th>\n",
       "      <td>Comment' Le narcissisme de s maintenant marian...</td>\n",
       "      <td>French</td>\n",
       "    </tr>\n",
       "    <tr>\n",
       "      <th>4262</th>\n",
       "      <td>a-t-elle je suppose qu'elle ne voudrait plus d...</td>\n",
       "      <td>French</td>\n",
       "    </tr>\n",
       "    <tr>\n",
       "      <th>4263</th>\n",
       "      <td>Terry, tu ressembles un peu à cet ange, mais q...</td>\n",
       "      <td>French</td>\n",
       "    </tr>\n",
       "  </tbody>\n",
       "</table>\n",
       "<p>1014 rows × 2 columns</p>\n",
       "</div>"
      ],
      "text/plain": [
       "                                                   Text Language\n",
       "3250  Si vous disposez d'ouvrages ou d'articles de r...   French\n",
       "3251                      Comment ajouter mes sources ?   French\n",
       "3252  Cette page ou section est en train d'être trad...   French\n",
       "3253  Vous pouvez aider au développement de Wikipédi...   French\n",
       "3254  Le mot nature est un terme polysémique (c’est-...   French\n",
       "...                                                 ...      ...\n",
       "4259  quelle a été votre erreur, nous allons vous no...   French\n",
       "4260  narcisa a changé ses manières, elle a lutté au...   French\n",
       "4261  Comment' Le narcissisme de s maintenant marian...   French\n",
       "4262  a-t-elle je suppose qu'elle ne voudrait plus d...   French\n",
       "4263  Terry, tu ressembles un peu à cet ange, mais q...   French\n",
       "\n",
       "[1014 rows x 2 columns]"
      ]
     },
     "execution_count": 32,
     "metadata": {},
     "output_type": "execute_result"
    }
   ],
   "source": [
    "data_French"
   ]
  },
  {
   "cell_type": "code",
   "execution_count": 30,
   "id": "35146d68",
   "metadata": {},
   "outputs": [],
   "source": [
    "data_lang = pd.concat([data_English,data_French,data_Hindi,data_Spansih])"
   ]
  },
  {
   "cell_type": "code",
   "execution_count": 34,
   "id": "751260c9",
   "metadata": {},
   "outputs": [],
   "source": [
    "data_lang.reset_index(inplace=True)"
   ]
  },
  {
   "cell_type": "code",
   "execution_count": 35,
   "id": "08bedd47",
   "metadata": {},
   "outputs": [
    {
     "data": {
      "text/html": [
       "<div>\n",
       "<style scoped>\n",
       "    .dataframe tbody tr th:only-of-type {\n",
       "        vertical-align: middle;\n",
       "    }\n",
       "\n",
       "    .dataframe tbody tr th {\n",
       "        vertical-align: top;\n",
       "    }\n",
       "\n",
       "    .dataframe thead th {\n",
       "        text-align: right;\n",
       "    }\n",
       "</style>\n",
       "<table border=\"1\" class=\"dataframe\">\n",
       "  <thead>\n",
       "    <tr style=\"text-align: right;\">\n",
       "      <th></th>\n",
       "      <th>index</th>\n",
       "      <th>Text</th>\n",
       "      <th>Language</th>\n",
       "    </tr>\n",
       "  </thead>\n",
       "  <tbody>\n",
       "    <tr>\n",
       "      <th>0</th>\n",
       "      <td>0</td>\n",
       "      <td>Nature, in the broadest sense, is the natural...</td>\n",
       "      <td>English</td>\n",
       "    </tr>\n",
       "    <tr>\n",
       "      <th>1</th>\n",
       "      <td>1</td>\n",
       "      <td>\"Nature\" can refer to the phenomena of the phy...</td>\n",
       "      <td>English</td>\n",
       "    </tr>\n",
       "    <tr>\n",
       "      <th>2</th>\n",
       "      <td>2</td>\n",
       "      <td>The study of nature is a large, if not the onl...</td>\n",
       "      <td>English</td>\n",
       "    </tr>\n",
       "    <tr>\n",
       "      <th>3</th>\n",
       "      <td>3</td>\n",
       "      <td>Although humans are part of nature, human acti...</td>\n",
       "      <td>English</td>\n",
       "    </tr>\n",
       "    <tr>\n",
       "      <th>4</th>\n",
       "      <td>4</td>\n",
       "      <td>[1] The word nature is borrowed from the Old F...</td>\n",
       "      <td>English</td>\n",
       "    </tr>\n",
       "    <tr>\n",
       "      <th>...</th>\n",
       "      <td>...</td>\n",
       "      <td>...</td>\n",
       "      <td>...</td>\n",
       "    </tr>\n",
       "    <tr>\n",
       "      <th>3276</th>\n",
       "      <td>5624</td>\n",
       "      <td>¿Tiene ella?</td>\n",
       "      <td>Spanish</td>\n",
       "    </tr>\n",
       "    <tr>\n",
       "      <th>3277</th>\n",
       "      <td>5625</td>\n",
       "      <td>Supongo que no querría más pan de oro ahora ¿e...</td>\n",
       "      <td>Spanish</td>\n",
       "    </tr>\n",
       "    <tr>\n",
       "      <th>3278</th>\n",
       "      <td>5626</td>\n",
       "      <td>Terry, en realidad te pareces un poco a ese án...</td>\n",
       "      <td>Spanish</td>\n",
       "    </tr>\n",
       "    <tr>\n",
       "      <th>3279</th>\n",
       "      <td>5627</td>\n",
       "      <td>¿Cómo pudiste ser él?</td>\n",
       "      <td>Spanish</td>\n",
       "    </tr>\n",
       "    <tr>\n",
       "      <th>3280</th>\n",
       "      <td>5628</td>\n",
       "      <td>Ustedes dos son tan amables</td>\n",
       "      <td>Spanish</td>\n",
       "    </tr>\n",
       "  </tbody>\n",
       "</table>\n",
       "<p>3281 rows × 3 columns</p>\n",
       "</div>"
      ],
      "text/plain": [
       "      index                                               Text Language\n",
       "0         0   Nature, in the broadest sense, is the natural...  English\n",
       "1         1  \"Nature\" can refer to the phenomena of the phy...  English\n",
       "2         2  The study of nature is a large, if not the onl...  English\n",
       "3         3  Although humans are part of nature, human acti...  English\n",
       "4         4  [1] The word nature is borrowed from the Old F...  English\n",
       "...     ...                                                ...      ...\n",
       "3276   5624                                       ¿Tiene ella?  Spanish\n",
       "3277   5625  Supongo que no querría más pan de oro ahora ¿e...  Spanish\n",
       "3278   5626  Terry, en realidad te pareces un poco a ese án...  Spanish\n",
       "3279   5627                              ¿Cómo pudiste ser él?  Spanish\n",
       "3280   5628                        Ustedes dos son tan amables  Spanish\n",
       "\n",
       "[3281 rows x 3 columns]"
      ]
     },
     "execution_count": 35,
     "metadata": {},
     "output_type": "execute_result"
    }
   ],
   "source": [
    "data_lang"
   ]
  },
  {
   "cell_type": "code",
   "execution_count": 71,
   "id": "ef5b498c",
   "metadata": {},
   "outputs": [],
   "source": [
    "string = 'He is a good boy 90 at age'"
   ]
  },
  {
   "cell_type": "code",
   "execution_count": 48,
   "id": "6942be77",
   "metadata": {},
   "outputs": [],
   "source": [
    "import re"
   ]
  },
  {
   "cell_type": "code",
   "execution_count": 82,
   "id": "ffd56867",
   "metadata": {},
   "outputs": [],
   "source": [
    "remove_except_alphabets = re.sub(r\"[^a-zA-Z]\",\" \",string)"
   ]
  },
  {
   "cell_type": "code",
   "execution_count": 83,
   "id": "5bcaf3ad",
   "metadata": {},
   "outputs": [
    {
     "data": {
      "text/plain": [
       "'He is a good boy    at age'"
      ]
     },
     "execution_count": 83,
     "metadata": {},
     "output_type": "execute_result"
    }
   ],
   "source": [
    "remove_except_alphabets"
   ]
  },
  {
   "cell_type": "code",
   "execution_count": 84,
   "id": "c193f70a",
   "metadata": {},
   "outputs": [],
   "source": [
    "removing_digits_1 = re.sub(r\"[0-9]\",\"\",string)"
   ]
  },
  {
   "cell_type": "code",
   "execution_count": 85,
   "id": "e120c4b2",
   "metadata": {},
   "outputs": [
    {
     "data": {
      "text/plain": [
       "'He is a good boy  at age'"
      ]
     },
     "execution_count": 85,
     "metadata": {},
     "output_type": "execute_result"
    }
   ],
   "source": [
    "removing_digits_1"
   ]
  },
  {
   "cell_type": "code",
   "execution_count": 93,
   "id": "036180e1",
   "metadata": {},
   "outputs": [],
   "source": [
    "removing_digits_2 = re.sub(r\"\\d\",\"\",string)"
   ]
  },
  {
   "cell_type": "code",
   "execution_count": 94,
   "id": "8a6a1263",
   "metadata": {},
   "outputs": [
    {
     "data": {
      "text/plain": [
       "'He is a good boy  at age'"
      ]
     },
     "execution_count": 94,
     "metadata": {},
     "output_type": "execute_result"
    }
   ],
   "source": [
    "removing_digits_2"
   ]
  },
  {
   "cell_type": "code",
   "execution_count": 89,
   "id": "f2eeb2c7",
   "metadata": {},
   "outputs": [],
   "source": [
    "remove_white_space = re.sub(r\"\\s\",\" \",removing_digits_2)"
   ]
  },
  {
   "cell_type": "code",
   "execution_count": 90,
   "id": "7734d630",
   "metadata": {},
   "outputs": [
    {
     "data": {
      "text/plain": [
       "'He is a good boy  at age'"
      ]
     },
     "execution_count": 90,
     "metadata": {},
     "output_type": "execute_result"
    }
   ],
   "source": [
    "remove_white_space"
   ]
  },
  {
   "cell_type": "markdown",
   "id": "234bab88",
   "metadata": {},
   "source": [
    "##### Cleaning of the data can be done to Hindi by removing the english alphabets if there are any"
   ]
  },
  {
   "cell_type": "code",
   "execution_count": 95,
   "id": "4bb7cb17",
   "metadata": {},
   "outputs": [],
   "source": [
    "tf_vecotorizer = TfidfVectorizer(ngram_range=(1,3),analyzer='char')"
   ]
  },
  {
   "cell_type": "code",
   "execution_count": 97,
   "id": "6ae770f8",
   "metadata": {},
   "outputs": [],
   "source": [
    "def labeling(col):\n",
    "    if col == 'English':\n",
    "        return 1\n",
    "    elif col == 'Hindi':\n",
    "        return 2\n",
    "    elif col == 'French':\n",
    "        return 3\n",
    "    else:\n",
    "        return 4"
   ]
  },
  {
   "cell_type": "code",
   "execution_count": 98,
   "id": "13b006e3",
   "metadata": {},
   "outputs": [],
   "source": [
    "data_lang['label'] = data_lang['Language'].apply(labeling)"
   ]
  },
  {
   "cell_type": "code",
   "execution_count": 102,
   "id": "9a8038ef",
   "metadata": {},
   "outputs": [
    {
     "data": {
      "text/html": [
       "<div>\n",
       "<style scoped>\n",
       "    .dataframe tbody tr th:only-of-type {\n",
       "        vertical-align: middle;\n",
       "    }\n",
       "\n",
       "    .dataframe tbody tr th {\n",
       "        vertical-align: top;\n",
       "    }\n",
       "\n",
       "    .dataframe thead th {\n",
       "        text-align: right;\n",
       "    }\n",
       "</style>\n",
       "<table border=\"1\" class=\"dataframe\">\n",
       "  <thead>\n",
       "    <tr style=\"text-align: right;\">\n",
       "      <th></th>\n",
       "      <th>index</th>\n",
       "      <th>Text</th>\n",
       "      <th>Language</th>\n",
       "      <th>label</th>\n",
       "    </tr>\n",
       "  </thead>\n",
       "  <tbody>\n",
       "    <tr>\n",
       "      <th>0</th>\n",
       "      <td>0</td>\n",
       "      <td>Nature, in the broadest sense, is the natural...</td>\n",
       "      <td>English</td>\n",
       "      <td>1</td>\n",
       "    </tr>\n",
       "    <tr>\n",
       "      <th>1</th>\n",
       "      <td>1</td>\n",
       "      <td>\"Nature\" can refer to the phenomena of the phy...</td>\n",
       "      <td>English</td>\n",
       "      <td>1</td>\n",
       "    </tr>\n",
       "    <tr>\n",
       "      <th>2</th>\n",
       "      <td>2</td>\n",
       "      <td>The study of nature is a large, if not the onl...</td>\n",
       "      <td>English</td>\n",
       "      <td>1</td>\n",
       "    </tr>\n",
       "    <tr>\n",
       "      <th>3</th>\n",
       "      <td>3</td>\n",
       "      <td>Although humans are part of nature, human acti...</td>\n",
       "      <td>English</td>\n",
       "      <td>1</td>\n",
       "    </tr>\n",
       "    <tr>\n",
       "      <th>4</th>\n",
       "      <td>4</td>\n",
       "      <td>[1] The word nature is borrowed from the Old F...</td>\n",
       "      <td>English</td>\n",
       "      <td>1</td>\n",
       "    </tr>\n",
       "    <tr>\n",
       "      <th>...</th>\n",
       "      <td>...</td>\n",
       "      <td>...</td>\n",
       "      <td>...</td>\n",
       "      <td>...</td>\n",
       "    </tr>\n",
       "    <tr>\n",
       "      <th>3276</th>\n",
       "      <td>5624</td>\n",
       "      <td>¿Tiene ella?</td>\n",
       "      <td>Spanish</td>\n",
       "      <td>4</td>\n",
       "    </tr>\n",
       "    <tr>\n",
       "      <th>3277</th>\n",
       "      <td>5625</td>\n",
       "      <td>Supongo que no querría más pan de oro ahora ¿e...</td>\n",
       "      <td>Spanish</td>\n",
       "      <td>4</td>\n",
       "    </tr>\n",
       "    <tr>\n",
       "      <th>3278</th>\n",
       "      <td>5626</td>\n",
       "      <td>Terry, en realidad te pareces un poco a ese án...</td>\n",
       "      <td>Spanish</td>\n",
       "      <td>4</td>\n",
       "    </tr>\n",
       "    <tr>\n",
       "      <th>3279</th>\n",
       "      <td>5627</td>\n",
       "      <td>¿Cómo pudiste ser él?</td>\n",
       "      <td>Spanish</td>\n",
       "      <td>4</td>\n",
       "    </tr>\n",
       "    <tr>\n",
       "      <th>3280</th>\n",
       "      <td>5628</td>\n",
       "      <td>Ustedes dos son tan amables</td>\n",
       "      <td>Spanish</td>\n",
       "      <td>4</td>\n",
       "    </tr>\n",
       "  </tbody>\n",
       "</table>\n",
       "<p>3281 rows × 4 columns</p>\n",
       "</div>"
      ],
      "text/plain": [
       "      index                                               Text Language  label\n",
       "0         0   Nature, in the broadest sense, is the natural...  English      1\n",
       "1         1  \"Nature\" can refer to the phenomena of the phy...  English      1\n",
       "2         2  The study of nature is a large, if not the onl...  English      1\n",
       "3         3  Although humans are part of nature, human acti...  English      1\n",
       "4         4  [1] The word nature is borrowed from the Old F...  English      1\n",
       "...     ...                                                ...      ...    ...\n",
       "3276   5624                                       ¿Tiene ella?  Spanish      4\n",
       "3277   5625  Supongo que no querría más pan de oro ahora ¿e...  Spanish      4\n",
       "3278   5626  Terry, en realidad te pareces un poco a ese án...  Spanish      4\n",
       "3279   5627                              ¿Cómo pudiste ser él?  Spanish      4\n",
       "3280   5628                        Ustedes dos son tan amables  Spanish      4\n",
       "\n",
       "[3281 rows x 4 columns]"
      ]
     },
     "execution_count": 102,
     "metadata": {},
     "output_type": "execute_result"
    }
   ],
   "source": [
    "data_lang"
   ]
  },
  {
   "cell_type": "code",
   "execution_count": 101,
   "id": "d1cf5714",
   "metadata": {},
   "outputs": [],
   "source": [
    "from sklearn.model_selection import train_test_split"
   ]
  },
  {
   "cell_type": "code",
   "execution_count": 103,
   "id": "7623fe37",
   "metadata": {},
   "outputs": [],
   "source": [
    "X_train,X_test,y_train,y_test = train_test_split(data_lang['Text'],data_lang['label'],test_size=0.3,random_state=101)"
   ]
  },
  {
   "cell_type": "code",
   "execution_count": 105,
   "id": "4cdae8a1",
   "metadata": {},
   "outputs": [],
   "source": [
    "X_train_vectorized = tf_vecotorizer.fit_transform(X_train)"
   ]
  },
  {
   "cell_type": "code",
   "execution_count": 106,
   "id": "f0f6b9bc",
   "metadata": {},
   "outputs": [],
   "source": [
    "from sklearn.linear_model import LogisticRegression"
   ]
  },
  {
   "cell_type": "code",
   "execution_count": 107,
   "id": "0bff1af0",
   "metadata": {},
   "outputs": [],
   "source": [
    "lr = LogisticRegression()"
   ]
  },
  {
   "cell_type": "code",
   "execution_count": 108,
   "id": "feb5448e",
   "metadata": {},
   "outputs": [
    {
     "data": {
      "text/plain": [
       "LogisticRegression()"
      ]
     },
     "execution_count": 108,
     "metadata": {},
     "output_type": "execute_result"
    }
   ],
   "source": [
    "lr.fit(X_train_vectorized,y_train)"
   ]
  },
  {
   "cell_type": "code",
   "execution_count": 109,
   "id": "449575d4",
   "metadata": {},
   "outputs": [],
   "source": [
    "X_test_vectorized = tf_vecotorizer.transform(X_test)"
   ]
  },
  {
   "cell_type": "code",
   "execution_count": 110,
   "id": "39d0e0a6",
   "metadata": {},
   "outputs": [],
   "source": [
    "predictions = lr.predict(X_test_vectorized)"
   ]
  },
  {
   "cell_type": "code",
   "execution_count": 114,
   "id": "9c16fe4e",
   "metadata": {},
   "outputs": [],
   "source": [
    "from sklearn.metrics import classification_report,confusion_matrix"
   ]
  },
  {
   "cell_type": "code",
   "execution_count": 113,
   "id": "ed4a5847",
   "metadata": {},
   "outputs": [
    {
     "name": "stdout",
     "output_type": "stream",
     "text": [
      "              precision    recall  f1-score   support\n",
      "\n",
      "           1       0.99      0.99      0.99       431\n",
      "           2       1.00      1.00      1.00        15\n",
      "           3       0.99      0.98      0.98       296\n",
      "           4       0.99      1.00      0.99       243\n",
      "\n",
      "    accuracy                           0.99       985\n",
      "   macro avg       0.99      0.99      0.99       985\n",
      "weighted avg       0.99      0.99      0.99       985\n",
      "\n"
     ]
    }
   ],
   "source": [
    "print(classification_report(y_test,predictions))"
   ]
  },
  {
   "cell_type": "code",
   "execution_count": 115,
   "id": "956bdf5f",
   "metadata": {},
   "outputs": [
    {
     "name": "stdout",
     "output_type": "stream",
     "text": [
      "[[428   0   3   0]\n",
      " [  0  15   0   0]\n",
      " [  4   0 290   2]\n",
      " [  0   0   1 242]]\n"
     ]
    }
   ],
   "source": [
    "print(confusion_matrix(y_test,predictions))"
   ]
  },
  {
   "cell_type": "code",
   "execution_count": 116,
   "id": "366fef91",
   "metadata": {},
   "outputs": [],
   "source": [
    "test_sentence = '¿Cómo estás hoy y qué estás haciendo?'"
   ]
  },
  {
   "cell_type": "code",
   "execution_count": 118,
   "id": "40f805af",
   "metadata": {},
   "outputs": [
    {
     "data": {
      "text/plain": [
       "4"
      ]
     },
     "execution_count": 118,
     "metadata": {},
     "output_type": "execute_result"
    }
   ],
   "source": [
    "lr.predict(tf_vecotorizer.transform([test_sentence]))[0]"
   ]
  },
  {
   "cell_type": "code",
   "execution_count": 122,
   "id": "3bae965c",
   "metadata": {},
   "outputs": [],
   "source": [
    "def prediction():\n",
    "    sentence = input(\"Enter your Sentence:\")\n",
    "    pred = lr.predict(tf_vecotorizer.transform([sentence]))\n",
    "    if pred[0]==1:\n",
    "        print(\"English Detected\")\n",
    "    elif pred[0]==2:\n",
    "        print(\"Hindi Detected\")\n",
    "    elif pred[0]==3:\n",
    "        print(\"French Detected\")\n",
    "    else:\n",
    "        print(\"Spanish Detected\")    "
   ]
  },
  {
   "cell_type": "code",
   "execution_count": 123,
   "id": "0e8edc70",
   "metadata": {},
   "outputs": [
    {
     "name": "stdout",
     "output_type": "stream",
     "text": [
      "Enter your Sentence: Comment allez-vous aujourd'hui et que faites-vous\n",
      "French Detected\n"
     ]
    }
   ],
   "source": [
    "prediction()"
   ]
  },
  {
   "cell_type": "code",
   "execution_count": 124,
   "id": "17746feb",
   "metadata": {},
   "outputs": [
    {
     "name": "stdout",
     "output_type": "stream",
     "text": [
      "Enter your Sentence: आज आप कैसे हैं और आप क्या कर रहे हैं\n",
      "Hindi Detected\n"
     ]
    }
   ],
   "source": [
    "prediction()"
   ]
  },
  {
   "cell_type": "code",
   "execution_count": 125,
   "id": "fd621d7f",
   "metadata": {},
   "outputs": [
    {
     "name": "stdout",
     "output_type": "stream",
     "text": [
      "Enter your Sentence:How are you today and what were you up to\n",
      "English Detected\n"
     ]
    }
   ],
   "source": [
    "prediction()"
   ]
  },
  {
   "cell_type": "code",
   "execution_count": 126,
   "id": "7c168a41",
   "metadata": {},
   "outputs": [
    {
     "name": "stdout",
     "output_type": "stream",
     "text": [
      "Enter your Sentence:¿Cómo estás hoy y qué estabas haciendo?\n",
      "Spanish Detected\n"
     ]
    }
   ],
   "source": [
    "prediction()"
   ]
  }
 ],
 "metadata": {
  "kernelspec": {
   "display_name": "Python 3",
   "language": "python",
   "name": "python3"
  },
  "language_info": {
   "codemirror_mode": {
    "name": "ipython",
    "version": 3
   },
   "file_extension": ".py",
   "mimetype": "text/x-python",
   "name": "python",
   "nbconvert_exporter": "python",
   "pygments_lexer": "ipython3",
   "version": "3.8.8"
  }
 },
 "nbformat": 4,
 "nbformat_minor": 5
}
